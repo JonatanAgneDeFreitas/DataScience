{
 "cells": [
  {
   "cell_type": "markdown",
   "metadata": {},
   "source": [
    "# Livro para consulta:\n",
    "- https://jakevdp.github.io/PythonDataScienceHandbook/03.08-aggregation-and-grouping.html\n",
    "- https://jakevdp.github.io/PythonDataScienceHandbook/03.09-pivot-tables.html\n",
    "    "
   ]
  },
  {
   "cell_type": "markdown",
   "metadata": {},
   "source": [
    "# 1. Importando bibliotecas <a name=\"import\"></a>\n",
    "\n",
    "<div style=\"text-align: right\"\n",
    "     \n",
    "[Voltar ao índice](#Contents)"
   ]
  },
  {
   "cell_type": "code",
   "execution_count": 1,
   "metadata": {
    "ExecuteTime": {
     "end_time": "2021-06-06T21:12:37.298706Z",
     "start_time": "2021-06-06T21:12:36.656481Z"
    }
   },
   "outputs": [],
   "source": [
    "import numpy as np\n",
    "import pandas as pd\n",
    "import seaborn as sns\n",
    "import matplotlib.pyplot as plt\n",
    "\n",
    "%matplotlib inline"
   ]
  },
  {
   "cell_type": "markdown",
   "metadata": {},
   "source": [
    "# 2. Carregando o dataframe SINASC <a name=\"read\"></a>\n",
    "<div style=\"text-align: right\"\n",
    "     \n",
    "[Voltar ao índice](#Contents)"
   ]
  },
  {
   "cell_type": "code",
   "execution_count": 2,
   "metadata": {
    "ExecuteTime": {
     "end_time": "2021-06-06T21:12:37.762376Z",
     "start_time": "2021-06-06T21:12:37.728383Z"
    },
    "scrolled": false
   },
   "outputs": [
    {
     "data": {
      "text/html": [
       "<div>\n",
       "<style scoped>\n",
       "    .dataframe tbody tr th:only-of-type {\n",
       "        vertical-align: middle;\n",
       "    }\n",
       "\n",
       "    .dataframe tbody tr th {\n",
       "        vertical-align: top;\n",
       "    }\n",
       "\n",
       "    .dataframe thead th {\n",
       "        text-align: right;\n",
       "    }\n",
       "</style>\n",
       "<table border=\"1\" class=\"dataframe\">\n",
       "  <thead>\n",
       "    <tr style=\"text-align: right;\">\n",
       "      <th></th>\n",
       "      <th>ORIGEM</th>\n",
       "      <th>CODESTAB</th>\n",
       "      <th>CODMUNNASC</th>\n",
       "      <th>LOCNASC</th>\n",
       "      <th>IDADEMAE</th>\n",
       "      <th>ESTCIVMAE</th>\n",
       "      <th>ESCMAE</th>\n",
       "      <th>CODOCUPMAE</th>\n",
       "      <th>QTDFILVIVO</th>\n",
       "      <th>QTDFILMORT</th>\n",
       "      <th>...</th>\n",
       "      <th>KOTELCHUCK</th>\n",
       "      <th>CONTADOR</th>\n",
       "      <th>munResStatus</th>\n",
       "      <th>munResTipo</th>\n",
       "      <th>munResNome</th>\n",
       "      <th>munResUf</th>\n",
       "      <th>munResLat</th>\n",
       "      <th>munResLon</th>\n",
       "      <th>munResAlt</th>\n",
       "      <th>munResArea</th>\n",
       "    </tr>\n",
       "  </thead>\n",
       "  <tbody>\n",
       "    <tr>\n",
       "      <th>0</th>\n",
       "      <td>1</td>\n",
       "      <td>2679477.0</td>\n",
       "      <td>110001</td>\n",
       "      <td>1</td>\n",
       "      <td>19</td>\n",
       "      <td>5.0</td>\n",
       "      <td>8 a 11 anos</td>\n",
       "      <td>NaN</td>\n",
       "      <td>0.0</td>\n",
       "      <td>0.0</td>\n",
       "      <td>...</td>\n",
       "      <td>5</td>\n",
       "      <td>1</td>\n",
       "      <td>ATIVO</td>\n",
       "      <td>MUNIC</td>\n",
       "      <td>Alta Floresta D'Oeste</td>\n",
       "      <td>Rondônia</td>\n",
       "      <td>-11.93554</td>\n",
       "      <td>-61.99982</td>\n",
       "      <td>338.0</td>\n",
       "      <td>7067.025</td>\n",
       "    </tr>\n",
       "    <tr>\n",
       "      <th>1</th>\n",
       "      <td>1</td>\n",
       "      <td>2679477.0</td>\n",
       "      <td>110001</td>\n",
       "      <td>1</td>\n",
       "      <td>29</td>\n",
       "      <td>2.0</td>\n",
       "      <td>8 a 11 anos</td>\n",
       "      <td>999992.0</td>\n",
       "      <td>1.0</td>\n",
       "      <td>0.0</td>\n",
       "      <td>...</td>\n",
       "      <td>5</td>\n",
       "      <td>2</td>\n",
       "      <td>ATIVO</td>\n",
       "      <td>MUNIC</td>\n",
       "      <td>Alta Floresta D'Oeste</td>\n",
       "      <td>Rondônia</td>\n",
       "      <td>-11.93554</td>\n",
       "      <td>-61.99982</td>\n",
       "      <td>338.0</td>\n",
       "      <td>7067.025</td>\n",
       "    </tr>\n",
       "    <tr>\n",
       "      <th>2</th>\n",
       "      <td>1</td>\n",
       "      <td>2679477.0</td>\n",
       "      <td>110001</td>\n",
       "      <td>1</td>\n",
       "      <td>37</td>\n",
       "      <td>9.0</td>\n",
       "      <td>8 a 11 anos</td>\n",
       "      <td>513205.0</td>\n",
       "      <td>2.0</td>\n",
       "      <td>0.0</td>\n",
       "      <td>...</td>\n",
       "      <td>5</td>\n",
       "      <td>3</td>\n",
       "      <td>ATIVO</td>\n",
       "      <td>MUNIC</td>\n",
       "      <td>Alta Floresta D'Oeste</td>\n",
       "      <td>Rondônia</td>\n",
       "      <td>-11.93554</td>\n",
       "      <td>-61.99982</td>\n",
       "      <td>338.0</td>\n",
       "      <td>7067.025</td>\n",
       "    </tr>\n",
       "    <tr>\n",
       "      <th>3</th>\n",
       "      <td>1</td>\n",
       "      <td>2516500.0</td>\n",
       "      <td>110001</td>\n",
       "      <td>1</td>\n",
       "      <td>30</td>\n",
       "      <td>5.0</td>\n",
       "      <td>12 anos ou mais</td>\n",
       "      <td>231205.0</td>\n",
       "      <td>0.0</td>\n",
       "      <td>0.0</td>\n",
       "      <td>...</td>\n",
       "      <td>4</td>\n",
       "      <td>4</td>\n",
       "      <td>ATIVO</td>\n",
       "      <td>MUNIC</td>\n",
       "      <td>Alto Alegre dos Parecis</td>\n",
       "      <td>Rondônia</td>\n",
       "      <td>-12.13178</td>\n",
       "      <td>-61.85308</td>\n",
       "      <td>397.0</td>\n",
       "      <td>3958.273</td>\n",
       "    </tr>\n",
       "    <tr>\n",
       "      <th>4</th>\n",
       "      <td>1</td>\n",
       "      <td>2516500.0</td>\n",
       "      <td>110001</td>\n",
       "      <td>1</td>\n",
       "      <td>30</td>\n",
       "      <td>2.0</td>\n",
       "      <td>8 a 11 anos</td>\n",
       "      <td>999992.0</td>\n",
       "      <td>1.0</td>\n",
       "      <td>0.0</td>\n",
       "      <td>...</td>\n",
       "      <td>5</td>\n",
       "      <td>5</td>\n",
       "      <td>ATIVO</td>\n",
       "      <td>MUNIC</td>\n",
       "      <td>Alta Floresta D'Oeste</td>\n",
       "      <td>Rondônia</td>\n",
       "      <td>-11.93554</td>\n",
       "      <td>-61.99982</td>\n",
       "      <td>338.0</td>\n",
       "      <td>7067.025</td>\n",
       "    </tr>\n",
       "  </tbody>\n",
       "</table>\n",
       "<p>5 rows × 69 columns</p>\n",
       "</div>"
      ],
      "text/plain": [
       "   ORIGEM   CODESTAB  CODMUNNASC  LOCNASC  IDADEMAE  ESTCIVMAE  \\\n",
       "0       1  2679477.0      110001        1        19        5.0   \n",
       "1       1  2679477.0      110001        1        29        2.0   \n",
       "2       1  2679477.0      110001        1        37        9.0   \n",
       "3       1  2516500.0      110001        1        30        5.0   \n",
       "4       1  2516500.0      110001        1        30        2.0   \n",
       "\n",
       "            ESCMAE  CODOCUPMAE  QTDFILVIVO  QTDFILMORT  ...  KOTELCHUCK  \\\n",
       "0      8 a 11 anos         NaN         0.0         0.0  ...           5   \n",
       "1      8 a 11 anos    999992.0         1.0         0.0  ...           5   \n",
       "2      8 a 11 anos    513205.0         2.0         0.0  ...           5   \n",
       "3  12 anos ou mais    231205.0         0.0         0.0  ...           4   \n",
       "4      8 a 11 anos    999992.0         1.0         0.0  ...           5   \n",
       "\n",
       "  CONTADOR munResStatus munResTipo               munResNome  munResUf  \\\n",
       "0        1        ATIVO      MUNIC    Alta Floresta D'Oeste  Rondônia   \n",
       "1        2        ATIVO      MUNIC    Alta Floresta D'Oeste  Rondônia   \n",
       "2        3        ATIVO      MUNIC    Alta Floresta D'Oeste  Rondônia   \n",
       "3        4        ATIVO      MUNIC  Alto Alegre dos Parecis  Rondônia   \n",
       "4        5        ATIVO      MUNIC    Alta Floresta D'Oeste  Rondônia   \n",
       "\n",
       "   munResLat munResLon  munResAlt  munResArea  \n",
       "0  -11.93554 -61.99982      338.0    7067.025  \n",
       "1  -11.93554 -61.99982      338.0    7067.025  \n",
       "2  -11.93554 -61.99982      338.0    7067.025  \n",
       "3  -12.13178 -61.85308      397.0    3958.273  \n",
       "4  -11.93554 -61.99982      338.0    7067.025  \n",
       "\n",
       "[5 rows x 69 columns]"
      ]
     },
     "execution_count": 2,
     "metadata": {},
     "output_type": "execute_result"
    }
   ],
   "source": [
    "sinasc_raw = pd.read_csv('./input/SINASC_RO_2019.csv')\n",
    "sinasc_raw.head()"
   ]
  },
  {
   "cell_type": "markdown",
   "metadata": {},
   "source": [
    "# Tarefa 1"
   ]
  },
  {
   "cell_type": "markdown",
   "metadata": {},
   "source": [
    "### 1. Idade media das mães e dos pais por município (coluna munResNome)\n"
   ]
  },
  {
   "cell_type": "code",
   "execution_count": 3,
   "metadata": {},
   "outputs": [
    {
     "data": {
      "text/plain": [
       "munResNome\n",
       "Alta Floresta D'Oeste        25.991826\n",
       "Alto Alegre dos Parecis      24.844156\n",
       "Alto Paraíso                 24.960177\n",
       "Alvorada D'Oeste             25.770732\n",
       "Ariquemes                    25.607866\n",
       "Buritis                      25.559177\n",
       "Cabixi                       26.037500\n",
       "Cacaulândia                  25.546667\n",
       "Cacoal                       26.890102\n",
       "Campo Novo de Rondônia       24.825301\n",
       "Candeias do Jamari           25.243323\n",
       "Castanheiras                 27.281250\n",
       "Cerejeiras                   27.240506\n",
       "Chupinguaia                  25.333333\n",
       "Colorado do Oeste            27.602804\n",
       "Corumbiara                   24.716535\n",
       "Costa Marques                24.412017\n",
       "Cujubim                      24.482927\n",
       "Espigão D'Oeste              26.093333\n",
       "Governador Jorge Teixeira    24.401786\n",
       "Guajará-Mirim                25.462228\n",
       "Itapuã do Oeste              26.064220\n",
       "Jaru                         25.982974\n",
       "Ji-Paraná                    26.361137\n",
       "Machadinho D'Oeste           25.480000\n",
       "Ministro Andreazza           27.904762\n",
       "Mirante da Serra             26.304878\n",
       "Monte Negro                  25.648241\n",
       "Município ignorado - RO      24.000000\n",
       "Nova Brasilândia D'Oeste     26.222222\n",
       "Nova Mamoré                  25.326389\n",
       "Nova União                   26.894231\n",
       "Novo Horizonte do Oeste      26.938776\n",
       "Ouro Preto do Oeste          26.375594\n",
       "Parecis                      26.454545\n",
       "Pimenta Bueno                25.199675\n",
       "Pimenteiras do Oeste         25.075000\n",
       "Porto Velho                  26.312670\n",
       "Presidente Médici            25.796053\n",
       "Primavera de Rondônia        27.023256\n",
       "Rio Crespo                   26.660000\n",
       "Rolim de Moura               26.600863\n",
       "Santa Luzia D'Oeste          26.121212\n",
       "Seringueiras                 24.910714\n",
       "São Felipe D'Oeste           26.481481\n",
       "São Francisco do Guaporé     25.660066\n",
       "São Miguel do Guaporé        25.926346\n",
       "Teixeirópolis                26.031250\n",
       "Theobroma                    25.536082\n",
       "Urupá                        26.688235\n",
       "Vale do Anari                26.096774\n",
       "Vale do Paraíso              25.679012\n",
       "Vilhena                      26.433962\n",
       "Name: IDADEMAE, dtype: float64"
      ]
     },
     "execution_count": 3,
     "metadata": {},
     "output_type": "execute_result"
    }
   ],
   "source": [
    "media_idade_mae = sinasc_raw.groupby('munResNome')['IDADEMAE'].mean()\n",
    "media_idade_mae"
   ]
  },
  {
   "cell_type": "code",
   "execution_count": 4,
   "metadata": {},
   "outputs": [
    {
     "data": {
      "text/plain": [
       "munResNome\n",
       "Alta Floresta D'Oeste        29.548701\n",
       "Alto Alegre dos Parecis      29.179104\n",
       "Alto Paraíso                 28.833333\n",
       "Alvorada D'Oeste             30.757282\n",
       "Ariquemes                    32.466667\n",
       "Buritis                      30.812500\n",
       "Cabixi                       34.333333\n",
       "Cacaulândia                  36.333333\n",
       "Cacoal                       30.931854\n",
       "Campo Novo de Rondônia       30.500000\n",
       "Candeias do Jamari           29.894737\n",
       "Castanheiras                 30.392857\n",
       "Cerejeiras                   31.652778\n",
       "Chupinguaia                  29.629630\n",
       "Colorado do Oeste            34.354839\n",
       "Corumbiara                   32.470588\n",
       "Costa Marques                30.613636\n",
       "Cujubim                      31.400000\n",
       "Espigão D'Oeste              31.198113\n",
       "Governador Jorge Teixeira    29.222222\n",
       "Guajará-Mirim                30.470588\n",
       "Itapuã do Oeste              42.500000\n",
       "Jaru                         32.197183\n",
       "Ji-Paraná                    31.132239\n",
       "Machadinho D'Oeste           31.326923\n",
       "Ministro Andreazza           33.849315\n",
       "Mirante da Serra             32.154762\n",
       "Monte Negro                  34.678571\n",
       "Município ignorado - RO      22.000000\n",
       "Nova Brasilândia D'Oeste     30.520833\n",
       "Nova Mamoré                  31.692308\n",
       "Nova União                   31.371429\n",
       "Novo Horizonte do Oeste      31.588235\n",
       "Ouro Preto do Oeste          31.233244\n",
       "Parecis                      32.473684\n",
       "Pimenta Bueno                29.745174\n",
       "Pimenteiras do Oeste         35.600000\n",
       "Porto Velho                  32.352679\n",
       "Presidente Médici            30.150754\n",
       "Primavera de Rondônia        31.888889\n",
       "Rio Crespo                   28.000000\n",
       "Rolim de Moura               30.360479\n",
       "Santa Luzia D'Oeste          30.703297\n",
       "Seringueiras                 30.500000\n",
       "São Felipe D'Oeste           31.395833\n",
       "São Francisco do Guaporé     31.638889\n",
       "São Miguel do Guaporé        32.666667\n",
       "Teixeirópolis                31.500000\n",
       "Theobroma                    30.083333\n",
       "Urupá                        31.008929\n",
       "Vale do Anari                34.000000\n",
       "Vale do Paraíso              29.976744\n",
       "Vilhena                      34.152941\n",
       "Name: IDADEPAI, dtype: float64"
      ]
     },
     "execution_count": 4,
     "metadata": {},
     "output_type": "execute_result"
    }
   ],
   "source": [
    "media_idade_pai = sinasc_raw.groupby('munResNome')['IDADEPAI'].mean()\n",
    "media_idade_pai"
   ]
  },
  {
   "cell_type": "markdown",
   "metadata": {},
   "source": [
    "### 2. Peso médio dos bebes por sexo que nasceram no dia do seu aniversário por faixas de escolaridade mae\n",
    "Ex: Você, aluna(o), nasceu no dia 10/01, então você precisa filtrar o conjunto de dados nessa data e calcular o peso médio dos bebês de cada sexo por faixa de escolaridade da mãe."
   ]
  },
  {
   "cell_type": "code",
   "execution_count": 5,
   "metadata": {},
   "outputs": [
    {
     "data": {
      "text/html": [
       "<div>\n",
       "<style scoped>\n",
       "    .dataframe tbody tr th:only-of-type {\n",
       "        vertical-align: middle;\n",
       "    }\n",
       "\n",
       "    .dataframe tbody tr th {\n",
       "        vertical-align: top;\n",
       "    }\n",
       "\n",
       "    .dataframe thead th {\n",
       "        text-align: right;\n",
       "    }\n",
       "</style>\n",
       "<table border=\"1\" class=\"dataframe\">\n",
       "  <thead>\n",
       "    <tr style=\"text-align: right;\">\n",
       "      <th></th>\n",
       "      <th>Sexo</th>\n",
       "      <th>Escolaridade Mãe</th>\n",
       "      <th>Peso Médio Bebê (g)</th>\n",
       "    </tr>\n",
       "  </thead>\n",
       "  <tbody>\n",
       "    <tr>\n",
       "      <th>0</th>\n",
       "      <td>Feminino</td>\n",
       "      <td>12 anos ou mais</td>\n",
       "      <td>3245.666667</td>\n",
       "    </tr>\n",
       "    <tr>\n",
       "      <th>1</th>\n",
       "      <td>Feminino</td>\n",
       "      <td>4 a 7 anos</td>\n",
       "      <td>2835.500000</td>\n",
       "    </tr>\n",
       "    <tr>\n",
       "      <th>2</th>\n",
       "      <td>Feminino</td>\n",
       "      <td>8 a 11 anos</td>\n",
       "      <td>3220.200000</td>\n",
       "    </tr>\n",
       "    <tr>\n",
       "      <th>3</th>\n",
       "      <td>Masculino</td>\n",
       "      <td>12 anos ou mais</td>\n",
       "      <td>3327.222222</td>\n",
       "    </tr>\n",
       "    <tr>\n",
       "      <th>4</th>\n",
       "      <td>Masculino</td>\n",
       "      <td>4 a 7 anos</td>\n",
       "      <td>3453.625000</td>\n",
       "    </tr>\n",
       "    <tr>\n",
       "      <th>5</th>\n",
       "      <td>Masculino</td>\n",
       "      <td>8 a 11 anos</td>\n",
       "      <td>3243.387097</td>\n",
       "    </tr>\n",
       "  </tbody>\n",
       "</table>\n",
       "</div>"
      ],
      "text/plain": [
       "        Sexo Escolaridade Mãe  Peso Médio Bebê (g)\n",
       "0   Feminino  12 anos ou mais          3245.666667\n",
       "1   Feminino       4 a 7 anos          2835.500000\n",
       "2   Feminino      8 a 11 anos          3220.200000\n",
       "3  Masculino  12 anos ou mais          3327.222222\n",
       "4  Masculino       4 a 7 anos          3453.625000\n",
       "5  Masculino      8 a 11 anos          3243.387097"
      ]
     },
     "execution_count": 5,
     "metadata": {},
     "output_type": "execute_result"
    }
   ],
   "source": [
    "aniversario = sinasc_raw[sinasc_raw['DTNASC'] == '2019-04-04']\n",
    "peso_medio_sexo_esc = aniversario.groupby(['SEXO', 'ESCMAE'])['PESO'].mean()\n",
    "df_peso_medio = peso_medio_sexo_esc.reset_index()\n",
    "df_peso_medio.columns = ['Sexo', 'Escolaridade Mãe', 'Peso Médio Bebê (g)']\n",
    "df_peso_medio"
   ]
  },
  {
   "cell_type": "markdown",
   "metadata": {},
   "source": [
    "### 3. Qual o municipio que nasceu menos bebe em 2019?\n",
    "    - qual a idade media, maxima, minima das maes nesse municipio?\n",
    "    - qual a idade media, maxima, minima dos pais nesse municipio?"
   ]
  },
  {
   "cell_type": "code",
   "execution_count": 6,
   "metadata": {},
   "outputs": [
    {
     "name": "stdout",
     "output_type": "stream",
     "text": [
      "O Municipio com o menor numero de nascimentos em 2019 foi: Castanheiras\n",
      "\n",
      "Resultados idade da mãe desse municipio\n",
      "\n",
      "Idade média das mães 27.28125\n",
      "Idade mínima das mães 17\n",
      "Idade máxima das mães 39\n",
      "\n",
      "\n",
      "Resultados idade do pai desse municipio\n",
      "\n",
      "Idade média do pai 30.392857142857142\n",
      "Idade mínima do pai 17.0\n",
      "Idade máxima do pai 43.0\n"
     ]
    }
   ],
   "source": [
    "df = sinasc_raw.dropna(subset=['munResNome', 'munResTipo']).loc[~(sinasc_raw['munResNome'] == 'Município ignorado - RO')]\n",
    "\n",
    "df_min_municipio = df['munResNome'].value_counts().idxmin()\n",
    "df_min_municipio_bebe = df[df['munResNome'] == df_min_municipio]\n",
    "\n",
    "idade_media_mae = df_min_municipio_bebe['IDADEMAE'].mean()\n",
    "idade_min_mae = df_min_municipio_bebe['IDADEMAE'].min()\n",
    "idade_max_mae = df_min_municipio_bebe['IDADEMAE'].max()\n",
    "\n",
    "idade_media_pai = df_min_municipio_bebe['IDADEPAI'].mean()\n",
    "idade_min_pai = df_min_municipio_bebe['IDADEPAI'].min()\n",
    "idade_max_pai = df_min_municipio_bebe['IDADEPAI'].max()\n",
    "\n",
    "print(f'O Municipio com o menor numero de nascimentos em 2019 foi: {df_min_municipio}')\n",
    "\n",
    "print('\\nResultados idade da mãe desse municipio\\n')\n",
    "print(f'Idade média das mães {idade_media_mae}')\n",
    "print(f'Idade mínima das mães {idade_min_mae}')\n",
    "print(f'Idade máxima das mães {idade_max_mae}\\n')\n",
    "\n",
    "print('\\nResultados idade do pai desse municipio\\n')\n",
    "print(f'Idade média do pai {idade_media_pai}')\n",
    "print(f'Idade mínima do pai {idade_min_pai}')\n",
    "print(f'Idade máxima do pai {idade_max_pai}')"
   ]
  },
  {
   "cell_type": "markdown",
   "metadata": {},
   "source": [
    "### 4. Qual o municipio que nasceu mais bebe no mês de março?\n",
    "    - qual a quantidade de filhos vivos media, maxima, minima nesse municipio?\n",
    "    - qual a idade media, maxima, minima dos pais nesse municipio?\n",
    "\n"
   ]
  },
  {
   "cell_type": "code",
   "execution_count": 7,
   "metadata": {},
   "outputs": [
    {
     "name": "stdout",
     "output_type": "stream",
     "text": [
      "O município que teve o maior numero de nascimentos em março foi: Porto Velho\n",
      "\n",
      "\n",
      "Resultado de quantidade de filhos vivos nesse município:\n",
      "\n",
      "Quantidade média de filhos vivos: 1.2950558213716108\n",
      "Quantidade mínima de filhos vivos: 0.0\n",
      "Quantidade máxima de filhos vivos: 9.0\n",
      "\n",
      "Resultado de idade dos pais nesse município:\n",
      "\n",
      "Idade média dos pais: 30.612903225806456\n",
      "Idade mínima dos pais: 14.0\n",
      "Idade máxima dos pais: 62.0\n"
     ]
    }
   ],
   "source": [
    "sinasc_raw['DTNASC'] = pd.to_datetime(sinasc_raw['DTNASC'])\n",
    "df_marco = sinasc_raw[sinasc_raw['DTNASC'].dt.month == 3]\n",
    "mais_bebe_marco = df_marco['munResNome'].value_counts().idxmax()\n",
    "df_mais_bebe_marco = df_marco[df_marco['munResNome'] == mais_bebe_marco]\n",
    "\n",
    "qtd_filhos_vivos_media = df_mais_bebe_marco['QTDFILVIVO'].mean() \n",
    "qtd_filhos_vivos_min = df_mais_bebe_marco['QTDFILVIVO'].min()\n",
    "qtd_filhos_vivos_max = df_mais_bebe_marco['QTDFILVIVO'].max()\n",
    "\n",
    "idade_media_pais = df_mais_bebe_marco[['IDADEPAI', 'IDADEMAE']].mean().mean()\n",
    "idade_min_pais = df_mais_bebe_marco[['IDADEPAI', 'IDADEMAE']].min().min()\n",
    "idade_max_pais = df_mais_bebe_marco[['IDADEPAI', 'IDADEMAE']].max().max()\n",
    "\n",
    "print(f'O município que teve o maior numero de nascimentos em março foi: {mais_bebe_marco}\\n')\n",
    "print('\\nResultado de quantidade de filhos vivos nesse município:\\n')\n",
    "print(f'Quantidade média de filhos vivos: {qtd_filhos_vivos_media}')\n",
    "print(f'Quantidade mínima de filhos vivos: {qtd_filhos_vivos_min}')\n",
    "print(f'Quantidade máxima de filhos vivos: {qtd_filhos_vivos_max}\\n')\n",
    "\n",
    "print('Resultado de idade dos pais nesse município:\\n')\n",
    "print(f'Idade média dos pais: {idade_media_pais}')\n",
    "print(f'Idade mínima dos pais: {idade_min_pais}')\n",
    "print(f'Idade máxima dos pais: {idade_max_pais}')"
   ]
  },
  {
   "cell_type": "markdown",
   "metadata": {},
   "source": [
    "### Analise as respostas encontradas, tire algum insight delas, conte pra gente algo encontrado nos dados. Algo que você julgue relevante e novo pra você."
   ]
  },
  {
   "cell_type": "markdown",
   "metadata": {},
   "source": [
    "Exemplo:\n",
    "- Ah, descobri que a idade mediana das mulheres que deram a luz no ano de 2019 dos municipios x é maior que y."
   ]
  },
  {
   "cell_type": "markdown",
   "metadata": {},
   "source": [
    "1 - Municipios onde tiveram a maior quantidade de mãe e pai menores de idade no ano de 2019"
   ]
  },
  {
   "cell_type": "code",
   "execution_count": 8,
   "metadata": {},
   "outputs": [
    {
     "name": "stdout",
     "output_type": "stream",
     "text": [
      "Número total de mães menores de idade: 2097\n",
      "Número total de pais menores de idade: 57\n",
      "Município onde mais tiveram mães menores de idade: Porto Velho (664 ocorrências)\n",
      "Município onde mais tiveram pais menores de idade: Pimenta Bueno (9 ocorrências)\n"
     ]
    }
   ],
   "source": [
    "total_maes_menores_idade = (sinasc_raw['IDADEMAE'] < 18).sum()\n",
    "total_pais_menores_idade = (sinasc_raw['IDADEPAI'] < 18).sum()\n",
    "\n",
    "maes_menores_idade = sinasc_raw[sinasc_raw['IDADEMAE'] < 18]['munResNome'].value_counts()\n",
    "municipio_mais_maes_menores_idade = maes_menores_idade.idxmax()\n",
    "numero_maes_menores_idade = maes_menores_idade.max()\n",
    "\n",
    "pais_menores_idade = sinasc_raw[sinasc_raw['IDADEPAI'] < 18]['munResNome'].value_counts()\n",
    "municipio_mais_pais_menores_idade = pais_menores_idade.idxmax()\n",
    "numero_pais_menores_idade = pais_menores_idade.max()\n",
    "\n",
    "print(f\"Número total de mães menores de idade: {total_maes_menores_idade}\")\n",
    "print(f\"Número total de pais menores de idade: {total_pais_menores_idade}\")\n",
    "print(f\"Município onde mais tiveram mães menores de idade: {municipio_mais_maes_menores_idade} ({numero_maes_menores_idade} ocorrências)\")\n",
    "print(f\"Município onde mais tiveram pais menores de idade: {municipio_mais_pais_menores_idade} ({numero_pais_menores_idade} ocorrências)\")\n"
   ]
  },
  {
   "cell_type": "markdown",
   "metadata": {},
   "source": [
    "2 - Quantidade de nascimentos de cada mês de 2019 separados pelo sexo"
   ]
  },
  {
   "cell_type": "code",
   "execution_count": 9,
   "metadata": {
    "scrolled": true
   },
   "outputs": [
    {
     "name": "stdout",
     "output_type": "stream",
     "text": [
      "Nascimentos por mês e sexo:\n",
      "SEXO            Feminino  Masculino  Total\n",
      "MES_NASCIMENTO                            \n",
      "Março               1196       1260   2456\n",
      "Abril               1164       1207   2371\n",
      "Maio                1160       1204   2364\n",
      "Setembro            1119       1238   2357\n",
      "Outubro             1098       1172   2270\n",
      "Janeiro             1088       1175   2263\n",
      "Agosto              1081       1117   2198\n",
      "Junho                998       1178   2176\n",
      "Julho               1036       1124   2160\n",
      "Novembro            1078       1070   2148\n",
      "Dezembro            1027       1109   2136\n",
      "Fevereiro           1093       1032   2125\n"
     ]
    }
   ],
   "source": [
    "sinasc_raw['MES_NASCIMENTO'] = sinasc_raw['DTNASC'].dt.month\n",
    "nascimentos_por_mes_sexo = sinasc_raw.groupby(['MES_NASCIMENTO', 'SEXO']).size().unstack()\n",
    "nascimentos_por_mes_sexo['Total'] = nascimentos_por_mes_sexo.sum(axis=1)\n",
    "\n",
    "meses = {1: 'Janeiro', 2: 'Fevereiro', 3: 'Março', 4: 'Abril', 5: 'Maio', 6: 'Junho', 7: 'Julho', 8: 'Agosto', 9: 'Setembro', 10: 'Outubro', 11: 'Novembro', 12: 'Dezembro'}\n",
    "nascimentos_por_mes_sexo.rename(index=meses, inplace=True)\n",
    "nascimentos_por_mes_sexo = nascimentos_por_mes_sexo.sort_values(by='Total', ascending=False)\n",
    "\n",
    "print(\"Nascimentos por mês e sexo:\")\n",
    "print(nascimentos_por_mes_sexo)"
   ]
  },
  {
   "cell_type": "code",
   "execution_count": 10,
   "metadata": {},
   "outputs": [
    {
     "data": {
      "text/plain": [
       "<Figure size 1000x600 with 0 Axes>"
      ]
     },
     "metadata": {},
     "output_type": "display_data"
    },
    {
     "data": {
      "image/png": "[encoded data removed]",
      "text/plain": [
       "<Figure size 640x480 with 1 Axes>"
      ]
     },
     "metadata": {},
     "output_type": "display_data"
    }
   ],
   "source": [
    "nascimentos_por_mes_sexo_sem_total = nascimentos_por_mes_sexo.drop(columns=['Total'])\n",
    "\n",
    "plt.figure(figsize=(10, 6))\n",
    "nascimentos_por_mes_sexo_sem_total.plot(kind='bar', stacked=True)\n",
    "plt.title('Nascimentos por Mês e Sexo')\n",
    "plt.xlabel('Mês')\n",
    "plt.ylabel('Número de Nascimentos')\n",
    "plt.xticks(rotation=45)\n",
    "plt.legend(title='Sexo', loc='upper right')\n",
    "plt.show()"
   ]
  },
  {
   "cell_type": "markdown",
   "metadata": {},
   "source": [
    "3 - Tipo de parto mais realizado do ano de 2019 considerando todos os municipios."
   ]
  },
  {
   "cell_type": "code",
   "execution_count": 11,
   "metadata": {},
   "outputs": [
    {
     "data": {
      "image/png": "[encoded data removed]",
      "text/plain": [
       "<Figure size 800x600 with 1 Axes>"
      ]
     },
     "metadata": {},
     "output_type": "display_data"
    },
    {
     "name": "stdout",
     "output_type": "stream",
     "text": [
      "Tipo de parto mais comum:\n",
      "PARTO\n",
      "Cesáreo    18036\n",
      "Name: count, dtype: int64\n"
     ]
    }
   ],
   "source": [
    "tipos_parto = sinasc_raw['PARTO'].value_counts()\n",
    "\n",
    "plt.figure(figsize=(8, 6))\n",
    "tipos_parto.plot(kind='bar')\n",
    "plt.title('Número de Nascimentos por Tipo de Parto')\n",
    "plt.xlabel('Tipo de Parto')\n",
    "plt.ylabel('Número de Nascimentos')\n",
    "plt.xticks(rotation=45)\n",
    "plt.show()\n",
    "\n",
    "print(\"Tipo de parto mais comum:\")\n",
    "print(tipos_parto.head(1))"
   ]
  },
  {
   "cell_type": "code",
   "execution_count": null,
   "metadata": {},
   "outputs": [],
   "source": []
  }
 ],
 "metadata": {
  "kernelspec": {
   "display_name": "Python 3 (ipykernel)",
   "language": "python",
   "name": "python3"
  },
  "language_info": {
   "codemirror_mode": {
    "name": "ipython",
    "version": 3
   },
   "file_extension": ".py",
   "mimetype": "text/x-python",
   "name": "python",
   "nbconvert_exporter": "python",
   "pygments_lexer": "ipython3",
   "version": "3.11.7"
  },
  "varInspector": {
   "cols": {
    "lenName": 16,
    "lenType": 16,
    "lenVar": 40
   },
   "kernels_config": {
    "python": {
     "delete_cmd_postfix": "",
     "delete_cmd_prefix": "del ",
     "library": "var_list.py",
     "varRefreshCmd": "print(var_dic_list())"
    },
    "r": {
     "delete_cmd_postfix": ") ",
     "delete_cmd_prefix": "rm(",
     "library": "var_list.r",
     "varRefreshCmd": "cat(var_dic_list()) "
    }
   },
   "types_to_exclude": [
    "module",
    "function",
    "builtin_function_or_method",
    "instance",
    "_Feature"
   ],
   "window_display": false
  }
 },
 "nbformat": 4,
 "nbformat_minor": 4
}
