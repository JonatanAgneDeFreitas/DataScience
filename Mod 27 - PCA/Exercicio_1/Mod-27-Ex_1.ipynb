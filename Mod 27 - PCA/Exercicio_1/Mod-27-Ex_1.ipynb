{
 "cells": [
  {
   "cell_type": "markdown",
   "metadata": {},
   "source": [
    "# PCA - Tarefa 01: *HAR* com PCA\n",
    "\n",
    "Vamos trabalhar com a base da demonstração feita em aula, mas vamos explorar um pouco melhor como é o desempenho da árvore variando o número de componentes principais."
   ]
  },
  {
   "cell_type": "code",
   "execution_count": 20,
   "metadata": {
    "scrolled": false
   },
   "outputs": [],
   "source": [
    "import pandas as pd\n",
    "import time\n",
    "\n",
    "from sklearn.tree import DecisionTreeClassifier\n",
    "\n",
    "from sklearn.decomposition import PCA\n",
    "from sklearn.metrics import accuracy_score\n",
    "from sklearn.model_selection import cross_val_score\n",
    "from sklearn.model_selection import GridSearchCV\n",
    "\n",
    "filename_features = \"../Dados/UCI HAR Dataset/features.txt\"\n",
    "filename_labels = \"../Dados/UCI HAR Dataset/activity_labels.txt\"\n",
    "\n",
    "filename_subtrain = \"../Dados/UCI HAR Dataset/train/subject_train.txt\"\n",
    "filename_xtrain = \"../Dados/UCI HAR Dataset/train/X_train.txt\"\n",
    "filename_ytrain = \"../Dados/UCI HAR Dataset/train/y_train.txt\"\n",
    "\n",
    "filename_subtest = \"../Dados/UCI HAR Dataset/test/subject_test.txt\"\n",
    "ffilename_xtest = \"../Dados/UCI HAR Dataset/test/X_test.txt\"\n",
    "filename_ytest = \"../Dados/UCI HAR Dataset/test/y_test.txt\"\n",
    "\n",
    "features = pd.read_csv(filename_features, header=None, names=['nome_var'], sep=\"#\").squeeze()\n",
    "labels = pd.read_csv(filename_labels, delim_whitespace=True, header=None, names=['cod_label', 'label'])\n",
    "\n",
    "subject_train = pd.read_csv(filename_subtrain, header=None, names=['subject_id']).squeeze()\n",
    "X_train = pd.read_csv(filename_xtrain, delim_whitespace=True, header=None, names=features.tolist())\n",
    "y_train = pd.read_csv(filename_ytrain, header=None, names=['cod_label'])\n",
    "\n",
    "subject_test = pd.read_csv(filename_subtest, header=None, names=['subject_id']).squeeze()\n",
    "X_test = pd.read_csv(ffilename_xtest, delim_whitespace=True, header=None, names=features.tolist())\n",
    "y_test = pd.read_csv(filename_ytest, header=None, names=['cod_label'])"
   ]
  },
  {
   "cell_type": "markdown",
   "metadata": {},
   "source": [
    "## Árvore de decisão\n",
    "\n",
    "Rode uma árvore de decisão com todas as variáveis, utilizando o ```ccp_alpha=0.001```. Avalie a acurácia nas bases de treinamento e teste. Avalie o tempo de processamento."
   ]
  },
  {
   "cell_type": "code",
   "execution_count": 21,
   "metadata": {},
   "outputs": [
    {
     "name": "stdout",
     "output_type": "stream",
     "text": [
      "Acurácia na base de treinamento: 97.58\n",
      "Acurácia na base de teste: 87.99\n",
      "\n",
      "CPU times: total: 4.3 s\n",
      "Wall time: 4.32 s\n"
     ]
    }
   ],
   "source": [
    "%%time\n",
    "\n",
    "clf = DecisionTreeClassifier(ccp_alpha=0.001, random_state=42)\n",
    "clf.fit(X_train, y_train)\n",
    "\n",
    "train_accuracy = accuracy_score(y_train, clf.predict(X_train))\n",
    "test_accuracy = accuracy_score(y_test, clf.predict(X_test))\n",
    "\n",
    "print(f\"Acurácia na base de treinamento: {train_accuracy*100:.2f}\")\n",
    "print(f\"Acurácia na base de teste: {test_accuracy*100:.2f}\\n\")"
   ]
  },
  {
   "cell_type": "markdown",
   "metadata": {},
   "source": [
    "## Árvore com PCA\n",
    "\n",
    "Faça uma análise de componemtes principais das variáveis originais. Utilize apenas uma componente. Faça uma árvore de decisão com esta componente como variável explicativa.\n",
    "\n",
    "- Avalie a acurácia nas bases de treinamento e teste\n",
    "- Avalie o tempo de processamento"
   ]
  },
  {
   "cell_type": "code",
   "execution_count": 22,
   "metadata": {},
   "outputs": [
    {
     "name": "stdout",
     "output_type": "stream",
     "text": [
      "Dimensões da base de treinamento: (7352, 1)\n",
      "Dimensões da base de teste: (2947, 1)\n",
      "Acurácia na base de treinamento com PCA: 49.97\n",
      "Acurácia na base de teste com PCA: 45.71\n",
      "\n",
      "CPU times: total: 1.16 s\n",
      "Wall time: 174 ms\n"
     ]
    }
   ],
   "source": [
    "%%time\n",
    "\n",
    "pca = PCA(n_components=1)\n",
    "X_train_pca = pca.fit_transform(X_train)\n",
    "X_test_pca = pca.transform(X_test)\n",
    "\n",
    "clf_pca = DecisionTreeClassifier(ccp_alpha=0.001, random_state=42)\n",
    "clf_pca.fit(X_train_pca, y_train)\n",
    "\n",
    "print(f'Dimensões da base de treinamento: {X_train_pca.shape}')\n",
    "print(f'Dimensões da base de teste: {X_test_pca.shape}')\n",
    "\n",
    "train_accuracy_pca = accuracy_score(y_train, clf_pca.predict(X_train_pca))\n",
    "test_accuracy_pca = accuracy_score(y_test, clf_pca.predict(X_test_pca))\n",
    "\n",
    "print(f\"Acurácia na base de treinamento com PCA: {train_accuracy_pca*100:.2f}\")\n",
    "print(f\"Acurácia na base de teste com PCA: {test_accuracy_pca*100:.2f}\\n\")"
   ]
  },
  {
   "cell_type": "markdown",
   "metadata": {},
   "source": [
    "## Testando o número de componentes\n",
    "\n",
    "Com base no código acima, teste a árvore de classificação com pelo menos as seguintes possibilidades de quantidades de componentes: ```[1, 2, 5, 10, 50]```. Avalie para cada uma delas:\n",
    "\n",
    "- Acurácia nas bases de treino e teste\n",
    "- Tempo de processamento\n"
   ]
  },
  {
   "cell_type": "code",
   "execution_count": 23,
   "metadata": {},
   "outputs": [
    {
     "name": "stdout",
     "output_type": "stream",
     "text": [
      "Dimensões da base de treinamento: (7352, 1)\n",
      "Dimensões da base de teste: (2947, 1)\n",
      "Acurácia na base de treinamento com PCA: 49.97\n",
      "Acurácia na base de teste com PCA: 45.71\n",
      "\n",
      "Dimensões da base de treinamento: (7352, 2)\n",
      "Dimensões da base de teste: (2947, 2)\n",
      "Acurácia na base de treinamento com PCA: 61.28\n",
      "Acurácia na base de teste com PCA: 58.47\n",
      "\n",
      "Dimensões da base de treinamento: (7352, 5)\n",
      "Dimensões da base de teste: (2947, 5)\n",
      "Acurácia na base de treinamento com PCA: 84.60\n",
      "Acurácia na base de teste com PCA: 78.86\n",
      "\n",
      "Dimensões da base de treinamento: (7352, 10)\n",
      "Dimensões da base de teste: (2947, 10)\n",
      "Acurácia na base de treinamento com PCA: 89.45\n",
      "Acurácia na base de teste com PCA: 82.15\n",
      "\n",
      "Dimensões da base de treinamento: (7352, 25)\n",
      "Dimensões da base de teste: (2947, 25)\n",
      "Acurácia na base de treinamento com PCA: 91.19\n",
      "Acurácia na base de teste com PCA: 82.46\n",
      "\n",
      "Dimensões da base de treinamento: (7352, 50)\n",
      "Dimensões da base de teste: (2947, 50)\n",
      "Acurácia na base de treinamento com PCA: 91.50\n",
      "Acurácia na base de teste com PCA: 82.52\n",
      "\n",
      "CPU times: total: 12.6 s\n",
      "Wall time: 2.01 s\n"
     ]
    }
   ],
   "source": [
    "%%time\n",
    "\n",
    "componentes = [1, 2, 5, 10, 25, 50]\n",
    "\n",
    "for n in componentes:\n",
    "    pca = PCA(n_components=n)\n",
    "    X_train_pca = pca.fit_transform(X_train)\n",
    "    X_test_pca = pca.transform(X_test)\n",
    "\n",
    "    clf_pca = DecisionTreeClassifier(ccp_alpha=0.001, random_state=42)\n",
    "    clf_pca.fit(X_train_pca, y_train)\n",
    "    \n",
    "    print(f'Dimensões da base de treinamento: {X_train_pca.shape}')\n",
    "    print(f'Dimensões da base de teste: {X_test_pca.shape}')\n",
    "\n",
    "    train_accuracy_pca = accuracy_score(y_train, clf_pca.predict(X_train_pca))\n",
    "    test_accuracy_pca = accuracy_score(y_test, clf_pca.predict(X_test_pca))\n",
    "\n",
    "    print(f\"Acurácia na base de treinamento com PCA: {train_accuracy_pca*100:.2f}\")\n",
    "    print(f\"Acurácia na base de teste com PCA: {test_accuracy_pca*100:.2f}\\n\")"
   ]
  },
  {
   "cell_type": "markdown",
   "metadata": {},
   "source": [
    "## Conclua\n",
    "\n",
    "- O que aconteceu com a acurácia?\n",
    "- O que aconteceu com o tempo de processamento?"
   ]
  },
  {
   "cell_type": "markdown",
   "metadata": {},
   "source": [
    "Ao reduzir a dimensionalidade utilizando a técnica de Análise de Componentes Principais (PCA), observamos que a principal mudança e mais perceptível ocorre em relação ao tempo de processamento. A árvore de decisão executada com o conjunto de dados completo, contendo todas as 561 variáveis, levou aproximadamente 4,3 segundos para ser executada, resultando em uma acurácia de 87,99% na base de teste. No entanto, ao utilizar o PCA com apenas um componente, o tempo de processamento foi reduzido para pouco menos de 200 ms, porém a acurácia na base de testes foi de 45%.\n",
    "\n",
    "Aumentando o número de componentes, foi possível aumentar gradualmente a acurácia na base de testes. Com 50 componentes, foi atingida uma acurácia de até 83%, com um tempo de processamento de aproximadamente 2 segundos para executar todas as 5 combinações de números diferentes de componentes. Portanto, podemos concluir que é possível obter uma acurácia semelhante à árvore com todas as variáveis do conjunto de dados, porém com um tempo de processamento reduzido em menos da metade. É importante ressaltar que os componentes são formados a partir da combinação linear das variáveis originais."
   ]
  },
  {
   "cell_type": "code",
   "execution_count": null,
   "metadata": {},
   "outputs": [],
   "source": []
  }
 ],
 "metadata": {
  "kernelspec": {
   "display_name": "Python 3 (ipykernel)",
   "language": "python",
   "name": "python3"
  },
  "language_info": {
   "codemirror_mode": {
    "name": "ipython",
    "version": 3
   },
   "file_extension": ".py",
   "mimetype": "text/x-python",
   "name": "python",
   "nbconvert_exporter": "python",
   "pygments_lexer": "ipython3",
   "version": "3.11.7"
  },
  "toc": {
   "base_numbering": 1,
   "nav_menu": {},
   "number_sections": true,
   "sideBar": true,
   "skip_h1_title": true,
   "title_cell": "Índice",
   "title_sidebar": "Conteúdo",
   "toc_cell": false,
   "toc_position": {},
   "toc_section_display": true,
   "toc_window_display": false
  },
  "varInspector": {
   "cols": {
    "lenName": 16,
    "lenType": 16,
    "lenVar": 40
   },
   "kernels_config": {
    "python": {
     "delete_cmd_postfix": "",
     "delete_cmd_prefix": "del ",
     "library": "var_list.py",
     "varRefreshCmd": "print(var_dic_list())"
    },
    "r": {
     "delete_cmd_postfix": ") ",
     "delete_cmd_prefix": "rm(",
     "library": "var_list.r",
     "varRefreshCmd": "cat(var_dic_list()) "
    }
   },
   "types_to_exclude": [
    "module",
    "function",
    "builtin_function_or_method",
    "instance",
    "_Feature"
   ],
   "window_display": false
  }
 },
 "nbformat": 4,
 "nbformat_minor": 4
}
