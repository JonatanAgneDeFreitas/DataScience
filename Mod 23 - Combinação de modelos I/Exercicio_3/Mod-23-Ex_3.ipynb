{
 "cells": [
  {
   "cell_type": "markdown",
   "id": "048edc22",
   "metadata": {},
   "source": [
    "# Tarefa 03"
   ]
  },
  {
   "cell_type": "markdown",
   "id": "a6b9efa9",
   "metadata": {},
   "source": [
    "**1.** Quais são os hyperparâmetros do RF?\n",
    "\n"
   ]
  },
  {
   "cell_type": "markdown",
   "id": "2ddd5cec",
   "metadata": {},
   "source": [
    "> Os hyperparâmetros do algoritmo ***Random Forest*** são:\n",
    ">\n",
    "> - n_estimators\n",
    "> - criterion\n",
    "> - max_depth\n",
    "> - min_samples_split\n",
    "> - min_samples_leaf\n",
    "> - min_weight_fraction_leaf\n",
    "> - max_features\n",
    "> - max_leaf_nodes\n",
    "> - min_impurity_decrease\n",
    "> - bootstrap\n",
    "> - oob_score\n",
    "> - n_jobs\n",
    "> - random_state\n",
    "> - verbose\n",
    "> - warm_start\n",
    "> - class_weight\n",
    "> - ccp_alpha\n",
    "> - max_samples"
   ]
  },
  {
   "cell_type": "markdown",
   "id": "a2aeabc1",
   "metadata": {},
   "source": [
    "**2.** Pra que serve cada um deles?"
   ]
  },
  {
   "cell_type": "markdown",
   "id": "8145c7ca",
   "metadata": {},
   "source": [
    "> - ***n_estimators:*** Número de árvores de decisão no modelo. Cada árvore é construída a partir de uma amostra aleatória com reposição (*Bootstrap*);\n",
    "> - ***criterion:*** Métrica para avaliar a qualidade das divisões nos nós da árvore;\n",
    "> - ***max_depth:*** Número para limitar a profundidade máxima da árvore;\n",
    "> - ***min_samples_split:*** Número mínimo de amostras para que ocorra a divisão de um nó na árvore;\n",
    "> - ***min_samples_leaf:*** Número mínimo de amostras em uma folha para que seja considerada válida na divisão;\n",
    "> - ***min_weight_fraction_leaf:*** Número decimal para definir valor o \"peso\" (importância) mínimo necessário de uma folha;\n",
    "> - ***max_features:*** Número máximo de variáveis (*feature selection*) ao buscar a melhor divisão;\n",
    "> - ***max_leaf_nodes:*** Número máximo de nós na árvore;\n",
    "> - ***min_impurity_decrease:*** Valor mínimo de redução da impureza que define se haverá divisão do nó de acordo com a métrica utilizada;\n",
    "> - ***bootstrap:*** Define se o método *Bootstrap* será utilizado;\n",
    "> - ***oob_score:*** Define se o método *out-of-bag* será utilizado caso *Bootstrap* também estiver em uso;\n",
    "> - ***n_jobs:*** Número de processos que podem trabalhar em paralelo caso haja processamento disponível;\n",
    "> - ***random_state:*** Controla a aleatoriedade dos métodos *Bootstrap* e *feature selection* possibilitando a reprodução dos mesmos resultados do modelo;\n",
    "> - ***verbose:*** Controla o detalhamento das mensagens nos processos de treino e previsão do modelo;\n",
    "> - ***warm_start:*** Possibilita o reuso do treino anterior adicionando mais árvores ao modelo;\n",
    "> - ***class_weight:*** Define o peso de cada classe, possibilitando equilíbrio proporcional entre elas;\n",
    "> - ***ccp_alpha:*** Parâmetro de complexidade usado para controlar a pós-poda da árvore. Quanto maior o valor, maior será a poda;\n",
    "> - ***max_samples:*** Número máximo de amostras para treinar o modelo caso o método *Bootstrap* seja utilizado."
   ]
  },
  {
   "cell_type": "code",
   "execution_count": null,
   "id": "87e16ac4",
   "metadata": {},
   "outputs": [],
   "source": []
  }
 ],
 "metadata": {
  "kernelspec": {
   "display_name": "Python 3 (ipykernel)",
   "language": "python",
   "name": "python3"
  },
  "language_info": {
   "codemirror_mode": {
    "name": "ipython",
    "version": 3
   },
   "file_extension": ".py",
   "mimetype": "text/x-python",
   "name": "python",
   "nbconvert_exporter": "python",
   "pygments_lexer": "ipython3",
   "version": "3.11.7"
  }
 },
 "nbformat": 4,
 "nbformat_minor": 5
}
