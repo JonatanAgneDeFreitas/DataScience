{
 "cells": [
  {
   "cell_type": "markdown",
   "metadata": {},
   "source": [
    "# Cálculo - Tarefa 01\n",
    "\n",
    "1. Marque quais desses métodos/algoritmos muito populares em ciência de dados são baseados no uso de derivada:\n",
    "\n",
    "    1. Método Mínimos Quadrados\n",
    "    2. Gradiente descendente\n",
    "    3. Newton Raphson\n",
    "    4. CART (Árvore de decisão)"
   ]
  },
  {
   "cell_type": "markdown",
   "metadata": {},
   "source": [
    "### Utiliza\n",
    "**Gradiente descendente** - Esse algoritmo otimiza funções ajustando parâmetros na direção do gradiente negativo da função de custo, utilizando derivadas para encontrar a inclinação da função e determinar a direção de ajuste.\n",
    "\n",
    "**Newton-Raphson** - Esse método é utilizado para encontrar raízes de funções e utiliza derivadas, incluindo a segunda derivada, para iterativamente aproximar soluções.\n",
    "\n",
    "### Utiliza, mas não depende\n",
    "**Método dos Mínimos Quadrados** não depende diretamente do uso de derivadas, mas a solução analítica pode envolver derivadas ao resolver sistemas lineares (através de álgebra linear). No entanto, o método em si, especialmente quando usado em ajustes lineares simples, não é diretamente um algoritmo baseado em derivadas como os dois acima.\n",
    "\n",
    "### Não utiliza\n",
    "**CART (Árvore de Decisão)** não utiliza derivadas. Esse algoritmo se baseia em particionar dados usando medidas como entropia ou índice de Gini, sem necessidade de derivação."
   ]
  },
  {
   "cell_type": "markdown",
   "metadata": {},
   "source": [
    "2. Dada uma base de dados com uma variável resposta $y$ e um conjunto de variáveis explicativas. Considere uma estrutura de um modelo de regressão. Explique com suas palavras por que não é possível obter parâmetros que forneçam um erro quadrático médio (EQM) menor que o obtido com estimadores de mínimos quadrados."
   ]
  },
  {
   "cell_type": "markdown",
   "metadata": {},
   "source": [
    "O Método dos Mínimos Quadrados (MMQ) é amplamente utilizado em modelos de regressão porque ele é projetado para minimizar o Erro Quadrático Médio (EQM), que é a média dos quadrados dos erros (diferença entre os valores observados e os valores preditos pelo modelo). A razão pela qual não é possível obter parâmetros que forneçam um EQM menor que o obtido com os estimadores de mínimos quadrados é a seguinte:\n",
    "\n",
    "1. Otimização do EQM:\n",
    "O MMQ encontra os parâmetros do modelo de regressão que minimizam exatamente o EQM. Isso significa que, dado um conjunto de dados, ele ajusta a linha de regressão de forma que a soma dos quadrados das distâncias (erros) entre os pontos observados e a linha ajustada seja a menor possível. Qualquer outro conjunto de parâmetros resultaria em uma soma dos erros quadráticos maior.\n",
    "\n",
    "2. Propriedade de Otimalidade:\n",
    "Os estimadores obtidos pelo MMQ têm a propriedade de serem os melhores estimadores lineares não viesados (BLUE - Best Linear Unbiased Estimators). Isso significa que, dentro da classe de estimadores lineares e não viesados, os estimadores de mínimos quadrados fornecem o menor valor esperado do erro quadrático.\n",
    "\n",
    "3. Linearidade e Simetria dos Erros:\n",
    "O MMQ assume que os erros são simetricamente distribuídos em torno de zero e que a relação entre as variáveis explicativas e a variável resposta é linear. Sob essas condições, o MMQ é matematicamente garantido para fornecer a melhor estimativa dos parâmetros do modelo que minimizam o EQM.\n",
    "\n",
    "4. Comparação com Outros Métodos:\n",
    "Outros métodos de ajuste de modelos, como métodos robustos, podem ser úteis em situações onde as suposições do MMQ (como normalidade dos erros ou ausência de outliers) não são satisfeitas, mas em termos de minimização do EQM em si, nenhum outro método fornecerá um EQM menor, pois o MMQ já está otimizado especificamente para essa métrica.\n",
    "\n",
    "Portanto, o MMQ é o padrão para minimização do EQM porque ele é projetado para fazer exatamente isso. Qualquer outro método que tentasse otimizar o EQM acabaria, no melhor dos casos, replicando o desempenho do MMQ, mas nunca o superando."
   ]
  },
  {
   "cell_type": "code",
   "execution_count": null,
   "metadata": {},
   "outputs": [],
   "source": []
  }
 ],
 "metadata": {
  "kernelspec": {
   "display_name": "Python 3 (ipykernel)",
   "language": "python",
   "name": "python3"
  },
  "language_info": {
   "codemirror_mode": {
    "name": "ipython",
    "version": 3
   },
   "file_extension": ".py",
   "mimetype": "text/x-python",
   "name": "python",
   "nbconvert_exporter": "python",
   "pygments_lexer": "ipython3",
   "version": "3.11.7"
  },
  "toc": {
   "base_numbering": 1,
   "nav_menu": {},
   "number_sections": true,
   "sideBar": true,
   "skip_h1_title": true,
   "title_cell": "Índice",
   "title_sidebar": "Conteúdo",
   "toc_cell": false,
   "toc_position": {},
   "toc_section_display": true,
   "toc_window_display": false
  },
  "varInspector": {
   "cols": {
    "lenName": 16,
    "lenType": 16,
    "lenVar": 40
   },
   "kernels_config": {
    "python": {
     "delete_cmd_postfix": "",
     "delete_cmd_prefix": "del ",
     "library": "var_list.py",
     "varRefreshCmd": "print(var_dic_list())"
    },
    "r": {
     "delete_cmd_postfix": ") ",
     "delete_cmd_prefix": "rm(",
     "library": "var_list.r",
     "varRefreshCmd": "cat(var_dic_list()) "
    }
   },
   "types_to_exclude": [
    "module",
    "function",
    "builtin_function_or_method",
    "instance",
    "_Feature"
   ],
   "window_display": false
  }
 },
 "nbformat": 4,
 "nbformat_minor": 4
}
